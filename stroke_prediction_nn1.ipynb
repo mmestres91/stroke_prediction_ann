{
  "nbformat": 4,
  "nbformat_minor": 0,
  "metadata": {
    "colab": {
      "provenance": []
    },
    "kernelspec": {
      "name": "python3",
      "display_name": "Python 3"
    },
    "language_info": {
      "name": "python"
    }
  },
  "cells": [
    {
      "cell_type": "code",
      "execution_count": 1,
      "metadata": {
        "id": "yfvGjqHgbxdW"
      },
      "outputs": [],
      "source": [
        "import pandas as pd\n",
        "import numpy as np\n",
        "import plotly.express as px\n",
        "\n",
        "from keras.models import Sequential\n",
        "from keras import layers\n",
        "from keras.optimizers import RMSprop\n",
        "from keras.optimizers import Adam\n",
        "import tensorflow as tf\n",
        "from imblearn.over_sampling import RandomOverSampler\n",
        "from sklearn.preprocessing import StandardScaler\n",
        "from sklearn.impute import SimpleImputer"
      ]
    },
    {
      "cell_type": "code",
      "source": [
        "df = pd.read_csv('/content/drive/MyDrive/Data Science Projects/stroke_prediction/healthcare-dataset-stroke-data.csv')"
      ],
      "metadata": {
        "id": "7mK6vfSUb5ay"
      },
      "execution_count": 73,
      "outputs": []
    },
    {
      "cell_type": "code",
      "source": [
        "from sklearn.utils import shuffle\n",
        "df_shuff = shuffle(df)\n",
        "df_shuff.drop(columns=['id'], inplace=True)\n",
        "#df_shuff"
      ],
      "metadata": {
        "id": "4fcskvFJctGW"
      },
      "execution_count": 74,
      "outputs": []
    },
    {
      "cell_type": "code",
      "source": [
        "print(\"The shape before removing the outliers : \",df_shuff.shape)\n",
        "df_shuff.drop(df_shuff[df_shuff['bmi'] > 47].index, inplace = True)\n",
        "df_shuff.drop(df_shuff[(df_shuff['stroke'] == 0) & (df_shuff['avg_glucose_level'] > 167)].index, inplace = True)\n",
        "df_shuff.drop(df_shuff[(df_shuff['stroke'] == 1) & (df_shuff['age'] < 30)].index, inplace = True)\n",
        "print(\"The shape after removing the outliers : \",df_shuff.shape)"
      ],
      "metadata": {
        "colab": {
          "base_uri": "https://localhost:8080/"
        },
        "id": "FlBPql5u93B4",
        "outputId": "9a229658-5d52-43ff-9b30-77440c5d21c7"
      },
      "execution_count": 75,
      "outputs": [
        {
          "output_type": "stream",
          "name": "stdout",
          "text": [
            "The shape before removing the BMI outliers :  (5110, 11)\n",
            "The shape after removing the BMI outliers :  (4469, 11)\n"
          ]
        }
      ]
    },
    {
      "cell_type": "code",
      "source": [
        "X = df_shuff.drop(columns=['stroke'])\n",
        "y = df_shuff.stroke\n",
        "X_dum = pd.get_dummies(X, columns=['gender','ever_married','work_type','Residence_type','smoking_status'])"
      ],
      "metadata": {
        "id": "ii5M9Jnwb5dQ"
      },
      "execution_count": 76,
      "outputs": []
    },
    {
      "cell_type": "code",
      "source": [
        "s = StandardScaler()\n",
        "X_dum[['avg_glucose_level', 'age','bmi']] = s.fit_transform(X_dum[['avg_glucose_level', 'age', 'bmi']])"
      ],
      "metadata": {
        "id": "1P7FiQSYb5gD"
      },
      "execution_count": 77,
      "outputs": []
    },
    {
      "cell_type": "code",
      "source": [
        "from sklearn.impute import KNNImputer\n",
        "imputer = KNNImputer(n_neighbors=2)\n",
        "\n",
        "X_dum[['bmi']] = imputer.fit_transform(X_dum[['bmi']])"
      ],
      "metadata": {
        "id": "2ogknLxDb5h1"
      },
      "execution_count": 78,
      "outputs": []
    },
    {
      "cell_type": "code",
      "source": [
        "from imblearn.over_sampling import RandomOverSampler\n",
        "\n",
        "# define oversampling strategy\n",
        "oversample = RandomOverSampler(sampling_strategy='minority')\n",
        "# fit and apply the transform\n",
        "X_over, y_over = oversample.fit_resample(X_dum, y)"
      ],
      "metadata": {
        "id": "FIwl_HX2sGl8"
      },
      "execution_count": 79,
      "outputs": []
    },
    {
      "cell_type": "code",
      "source": [
        "X_over.columns"
      ],
      "metadata": {
        "colab": {
          "base_uri": "https://localhost:8080/"
        },
        "id": "8r6DnMD4Up95",
        "outputId": "02c816fa-1911-46a5-cebf-66ed9ca62609"
      },
      "execution_count": 80,
      "outputs": [
        {
          "output_type": "execute_result",
          "data": {
            "text/plain": [
              "Index(['age', 'hypertension', 'heart_disease', 'avg_glucose_level', 'bmi',\n",
              "       'gender_Female', 'gender_Male', 'gender_Other', 'ever_married_No',\n",
              "       'ever_married_Yes', 'work_type_Govt_job', 'work_type_Never_worked',\n",
              "       'work_type_Private', 'work_type_Self-employed', 'work_type_children',\n",
              "       'Residence_type_Rural', 'Residence_type_Urban',\n",
              "       'smoking_status_Unknown', 'smoking_status_formerly smoked',\n",
              "       'smoking_status_never smoked', 'smoking_status_smokes'],\n",
              "      dtype='object')"
            ]
          },
          "metadata": {},
          "execution_count": 80
        }
      ]
    },
    {
      "cell_type": "code",
      "source": [
        "X_over = X_over[['age', 'hypertension', 'heart_disease', 'avg_glucose_level', 'bmi',\n",
        "       'gender_Female', 'gender_Male', 'ever_married_No',\n",
        "       'ever_married_Yes', 'work_type_Govt_job', 'work_type_Never_worked',\n",
        "       'work_type_Private', 'work_type_Self-employed', 'work_type_children',\n",
        "       'Residence_type_Rural', 'Residence_type_Urban',\n",
        "       'smoking_status_Unknown', 'smoking_status_formerly smoked',\n",
        "       'smoking_status_never smoked', 'smoking_status_smokes']]"
      ],
      "metadata": {
        "id": "icSXCxJLY4ba"
      },
      "execution_count": 81,
      "outputs": []
    },
    {
      "cell_type": "code",
      "source": [
        "from sklearn.model_selection import train_test_split\n",
        "\n",
        "X_train, X_test, Y_train, Y_test = train_test_split(X_over, y_over, test_size = 0.2, random_state = 80)"
      ],
      "metadata": {
        "id": "ePfMWbtFlMKq"
      },
      "execution_count": 82,
      "outputs": []
    },
    {
      "cell_type": "code",
      "source": [
        "model = Sequential()\n",
        "tf.random.set_seed(156) # for consistent results\n",
        "model.add(layers.Dense(256, activation='relu'))\n",
        "model.add(layers.Dense(128, activation='relu'))\n",
        "model.add(layers.Dense(1))\n",
        "model.compile(optimizer=Adam(learning_rate=0.009), loss=tf.keras.losses.BinaryCrossentropy(from_logits=True),metrics=['accuracy'])\n",
        "history = model.fit(X_train, Y_train,\n",
        "                    epochs=150,\n",
        "                    validation_split=0.2,\n",
        "                    shuffle=True\n",
        "                    )"
      ],
      "metadata": {
        "colab": {
          "base_uri": "https://localhost:8080/"
        },
        "id": "-ajI5gCycPZ-",
        "outputId": "c9662b67-1b07-4c77-b573-88c767e049ea"
      },
      "execution_count": 83,
      "outputs": [
        {
          "output_type": "stream",
          "name": "stdout",
          "text": [
            "Epoch 1/150\n",
            "169/169 [==============================] - 1s 4ms/step - loss: 0.3831 - accuracy: 0.7907 - val_loss: 0.3178 - val_accuracy: 0.8254\n",
            "Epoch 2/150\n",
            "169/169 [==============================] - 1s 3ms/step - loss: 0.3265 - accuracy: 0.8266 - val_loss: 0.2909 - val_accuracy: 0.7936\n",
            "Epoch 3/150\n",
            "169/169 [==============================] - 1s 4ms/step - loss: 0.2831 - accuracy: 0.8504 - val_loss: 0.2678 - val_accuracy: 0.8469\n",
            "Epoch 4/150\n",
            "169/169 [==============================] - 1s 3ms/step - loss: 0.2482 - accuracy: 0.8767 - val_loss: 0.2308 - val_accuracy: 0.8839\n",
            "Epoch 5/150\n",
            "169/169 [==============================] - 1s 3ms/step - loss: 0.2193 - accuracy: 0.8992 - val_loss: 0.2155 - val_accuracy: 0.9001\n",
            "Epoch 6/150\n",
            "169/169 [==============================] - 0s 3ms/step - loss: 0.2011 - accuracy: 0.9142 - val_loss: 0.1930 - val_accuracy: 0.9201\n",
            "Epoch 7/150\n",
            "169/169 [==============================] - 1s 3ms/step - loss: 0.1689 - accuracy: 0.9236 - val_loss: 0.1763 - val_accuracy: 0.9268\n",
            "Epoch 8/150\n",
            "169/169 [==============================] - 1s 3ms/step - loss: 0.1565 - accuracy: 0.9362 - val_loss: 0.1811 - val_accuracy: 0.9268\n",
            "Epoch 9/150\n",
            "169/169 [==============================] - 1s 3ms/step - loss: 0.1349 - accuracy: 0.9473 - val_loss: 0.1661 - val_accuracy: 0.9386\n",
            "Epoch 10/150\n",
            "169/169 [==============================] - 1s 3ms/step - loss: 0.1239 - accuracy: 0.9528 - val_loss: 0.1362 - val_accuracy: 0.9438\n",
            "Epoch 11/150\n",
            "169/169 [==============================] - 1s 3ms/step - loss: 0.1223 - accuracy: 0.9536 - val_loss: 0.1290 - val_accuracy: 0.9482\n",
            "Epoch 12/150\n",
            "169/169 [==============================] - 0s 3ms/step - loss: 0.1067 - accuracy: 0.9625 - val_loss: 0.1628 - val_accuracy: 0.9512\n",
            "Epoch 13/150\n",
            "169/169 [==============================] - 1s 4ms/step - loss: 0.1044 - accuracy: 0.9615 - val_loss: 0.1341 - val_accuracy: 0.9564\n",
            "Epoch 14/150\n",
            "169/169 [==============================] - 1s 3ms/step - loss: 0.0907 - accuracy: 0.9680 - val_loss: 0.1066 - val_accuracy: 0.9623\n",
            "Epoch 15/150\n",
            "169/169 [==============================] - 1s 3ms/step - loss: 0.1004 - accuracy: 0.9638 - val_loss: 0.1409 - val_accuracy: 0.9490\n",
            "Epoch 16/150\n",
            "169/169 [==============================] - 1s 3ms/step - loss: 0.0799 - accuracy: 0.9734 - val_loss: 0.1053 - val_accuracy: 0.9652\n",
            "Epoch 17/150\n",
            "169/169 [==============================] - 1s 3ms/step - loss: 0.0833 - accuracy: 0.9710 - val_loss: 0.1416 - val_accuracy: 0.9260\n",
            "Epoch 18/150\n",
            "169/169 [==============================] - 1s 3ms/step - loss: 0.0702 - accuracy: 0.9765 - val_loss: 0.1148 - val_accuracy: 0.9623\n",
            "Epoch 19/150\n",
            "169/169 [==============================] - 1s 3ms/step - loss: 0.0684 - accuracy: 0.9767 - val_loss: 0.1276 - val_accuracy: 0.9623\n",
            "Epoch 20/150\n",
            "169/169 [==============================] - 1s 4ms/step - loss: 0.0713 - accuracy: 0.9754 - val_loss: 0.2024 - val_accuracy: 0.9445\n",
            "Epoch 21/150\n",
            "169/169 [==============================] - 0s 3ms/step - loss: 0.0695 - accuracy: 0.9749 - val_loss: 0.1679 - val_accuracy: 0.9475\n",
            "Epoch 22/150\n",
            "169/169 [==============================] - 1s 3ms/step - loss: 0.0733 - accuracy: 0.9760 - val_loss: 0.1114 - val_accuracy: 0.9623\n",
            "Epoch 23/150\n",
            "169/169 [==============================] - 0s 3ms/step - loss: 0.0558 - accuracy: 0.9810 - val_loss: 0.1237 - val_accuracy: 0.9660\n",
            "Epoch 24/150\n",
            "169/169 [==============================] - 0s 3ms/step - loss: 0.0573 - accuracy: 0.9795 - val_loss: 0.1315 - val_accuracy: 0.9541\n",
            "Epoch 25/150\n",
            "169/169 [==============================] - 0s 3ms/step - loss: 0.0671 - accuracy: 0.9756 - val_loss: 0.1601 - val_accuracy: 0.9534\n",
            "Epoch 26/150\n",
            "169/169 [==============================] - 0s 3ms/step - loss: 0.0738 - accuracy: 0.9784 - val_loss: 0.1130 - val_accuracy: 0.9689\n",
            "Epoch 27/150\n",
            "169/169 [==============================] - 1s 3ms/step - loss: 0.0492 - accuracy: 0.9834 - val_loss: 0.1601 - val_accuracy: 0.9564\n",
            "Epoch 28/150\n",
            "169/169 [==============================] - 1s 3ms/step - loss: 0.0844 - accuracy: 0.9706 - val_loss: 0.1368 - val_accuracy: 0.9645\n",
            "Epoch 29/150\n",
            "169/169 [==============================] - 0s 3ms/step - loss: 0.0487 - accuracy: 0.9839 - val_loss: 0.1282 - val_accuracy: 0.9682\n",
            "Epoch 30/150\n",
            "169/169 [==============================] - 1s 3ms/step - loss: 0.0436 - accuracy: 0.9848 - val_loss: 0.1191 - val_accuracy: 0.9689\n",
            "Epoch 31/150\n",
            "169/169 [==============================] - 0s 3ms/step - loss: 0.0403 - accuracy: 0.9867 - val_loss: 0.1097 - val_accuracy: 0.9734\n",
            "Epoch 32/150\n",
            "169/169 [==============================] - 0s 3ms/step - loss: 0.0574 - accuracy: 0.9786 - val_loss: 0.1346 - val_accuracy: 0.9638\n",
            "Epoch 33/150\n",
            "169/169 [==============================] - 1s 3ms/step - loss: 0.0634 - accuracy: 0.9806 - val_loss: 0.1491 - val_accuracy: 0.9689\n",
            "Epoch 34/150\n",
            "169/169 [==============================] - 0s 3ms/step - loss: 0.0507 - accuracy: 0.9830 - val_loss: 0.1182 - val_accuracy: 0.9712\n",
            "Epoch 35/150\n",
            "169/169 [==============================] - 1s 4ms/step - loss: 0.0393 - accuracy: 0.9856 - val_loss: 0.1159 - val_accuracy: 0.9741\n",
            "Epoch 36/150\n",
            "169/169 [==============================] - 1s 3ms/step - loss: 0.0347 - accuracy: 0.9880 - val_loss: 0.1251 - val_accuracy: 0.9726\n",
            "Epoch 37/150\n",
            "169/169 [==============================] - 0s 3ms/step - loss: 0.0350 - accuracy: 0.9869 - val_loss: 0.1324 - val_accuracy: 0.9682\n",
            "Epoch 38/150\n",
            "169/169 [==============================] - 0s 3ms/step - loss: 0.0284 - accuracy: 0.9902 - val_loss: 0.1466 - val_accuracy: 0.9719\n",
            "Epoch 39/150\n",
            "169/169 [==============================] - 1s 3ms/step - loss: 0.0266 - accuracy: 0.9896 - val_loss: 0.1462 - val_accuracy: 0.9675\n",
            "Epoch 40/150\n",
            "169/169 [==============================] - 0s 3ms/step - loss: 0.0319 - accuracy: 0.9871 - val_loss: 0.1696 - val_accuracy: 0.9682\n",
            "Epoch 41/150\n",
            "169/169 [==============================] - 1s 3ms/step - loss: 0.0425 - accuracy: 0.9867 - val_loss: 0.1480 - val_accuracy: 0.9689\n",
            "Epoch 42/150\n",
            "169/169 [==============================] - 0s 3ms/step - loss: 0.0496 - accuracy: 0.9821 - val_loss: 0.1387 - val_accuracy: 0.9682\n",
            "Epoch 43/150\n",
            "169/169 [==============================] - 1s 3ms/step - loss: 0.0403 - accuracy: 0.9861 - val_loss: 0.1529 - val_accuracy: 0.9682\n",
            "Epoch 44/150\n",
            "169/169 [==============================] - 1s 3ms/step - loss: 0.0294 - accuracy: 0.9902 - val_loss: 0.1170 - val_accuracy: 0.9756\n",
            "Epoch 45/150\n",
            "169/169 [==============================] - 1s 3ms/step - loss: 0.0257 - accuracy: 0.9909 - val_loss: 0.1587 - val_accuracy: 0.9741\n",
            "Epoch 46/150\n",
            "169/169 [==============================] - 0s 3ms/step - loss: 0.0335 - accuracy: 0.9876 - val_loss: 0.1621 - val_accuracy: 0.9697\n",
            "Epoch 47/150\n",
            "169/169 [==============================] - 1s 4ms/step - loss: 0.0250 - accuracy: 0.9917 - val_loss: 0.1593 - val_accuracy: 0.9652\n",
            "Epoch 48/150\n",
            "169/169 [==============================] - 1s 3ms/step - loss: 0.0422 - accuracy: 0.9900 - val_loss: 0.1529 - val_accuracy: 0.9660\n",
            "Epoch 49/150\n",
            "169/169 [==============================] - 1s 3ms/step - loss: 0.0333 - accuracy: 0.9887 - val_loss: 0.1345 - val_accuracy: 0.9749\n",
            "Epoch 50/150\n",
            "169/169 [==============================] - 1s 3ms/step - loss: 0.0442 - accuracy: 0.9880 - val_loss: 0.1949 - val_accuracy: 0.9593\n",
            "Epoch 51/150\n",
            "169/169 [==============================] - 1s 3ms/step - loss: 0.0503 - accuracy: 0.9861 - val_loss: 0.1285 - val_accuracy: 0.9652\n",
            "Epoch 52/150\n",
            "169/169 [==============================] - 0s 3ms/step - loss: 0.0402 - accuracy: 0.9876 - val_loss: 0.1351 - val_accuracy: 0.9645\n",
            "Epoch 53/150\n",
            "169/169 [==============================] - 1s 3ms/step - loss: 0.0327 - accuracy: 0.9891 - val_loss: 0.1472 - val_accuracy: 0.9660\n",
            "Epoch 54/150\n",
            "169/169 [==============================] - 1s 4ms/step - loss: 0.0293 - accuracy: 0.9909 - val_loss: 0.1341 - val_accuracy: 0.9734\n",
            "Epoch 55/150\n",
            "169/169 [==============================] - 1s 4ms/step - loss: 0.0273 - accuracy: 0.9917 - val_loss: 0.1249 - val_accuracy: 0.9734\n",
            "Epoch 56/150\n",
            "169/169 [==============================] - 1s 4ms/step - loss: 0.0214 - accuracy: 0.9928 - val_loss: 0.1482 - val_accuracy: 0.9652\n",
            "Epoch 57/150\n",
            "169/169 [==============================] - 1s 3ms/step - loss: 0.0202 - accuracy: 0.9939 - val_loss: 0.1091 - val_accuracy: 0.9734\n",
            "Epoch 58/150\n",
            "169/169 [==============================] - 1s 3ms/step - loss: 0.0179 - accuracy: 0.9945 - val_loss: 0.1344 - val_accuracy: 0.9726\n",
            "Epoch 59/150\n",
            "169/169 [==============================] - 1s 3ms/step - loss: 0.0169 - accuracy: 0.9946 - val_loss: 0.1687 - val_accuracy: 0.9660\n",
            "Epoch 60/150\n",
            "169/169 [==============================] - 1s 3ms/step - loss: 0.0423 - accuracy: 0.9878 - val_loss: 0.1470 - val_accuracy: 0.9586\n",
            "Epoch 61/150\n",
            "169/169 [==============================] - 1s 3ms/step - loss: 0.0333 - accuracy: 0.9885 - val_loss: 0.1598 - val_accuracy: 0.9726\n",
            "Epoch 62/150\n",
            "169/169 [==============================] - 1s 4ms/step - loss: 0.0524 - accuracy: 0.9839 - val_loss: 0.1477 - val_accuracy: 0.9726\n",
            "Epoch 63/150\n",
            "169/169 [==============================] - 1s 3ms/step - loss: 0.0454 - accuracy: 0.9854 - val_loss: 0.1261 - val_accuracy: 0.9719\n",
            "Epoch 64/150\n",
            "169/169 [==============================] - 1s 3ms/step - loss: 0.0223 - accuracy: 0.9930 - val_loss: 0.1694 - val_accuracy: 0.9749\n",
            "Epoch 65/150\n",
            "169/169 [==============================] - 1s 3ms/step - loss: 0.0164 - accuracy: 0.9952 - val_loss: 0.1229 - val_accuracy: 0.9756\n",
            "Epoch 66/150\n",
            "169/169 [==============================] - 1s 3ms/step - loss: 0.0177 - accuracy: 0.9939 - val_loss: 0.1564 - val_accuracy: 0.9734\n",
            "Epoch 67/150\n",
            "169/169 [==============================] - 1s 3ms/step - loss: 0.0138 - accuracy: 0.9959 - val_loss: 0.1420 - val_accuracy: 0.9771\n",
            "Epoch 68/150\n",
            "169/169 [==============================] - 1s 3ms/step - loss: 0.0180 - accuracy: 0.9932 - val_loss: 0.1517 - val_accuracy: 0.9756\n",
            "Epoch 69/150\n",
            "169/169 [==============================] - 1s 3ms/step - loss: 0.0151 - accuracy: 0.9952 - val_loss: 0.1692 - val_accuracy: 0.9726\n",
            "Epoch 70/150\n",
            "169/169 [==============================] - 1s 3ms/step - loss: 0.0296 - accuracy: 0.9906 - val_loss: 0.1507 - val_accuracy: 0.9712\n",
            "Epoch 71/150\n",
            "169/169 [==============================] - 1s 4ms/step - loss: 0.0567 - accuracy: 0.9835 - val_loss: 0.1627 - val_accuracy: 0.9564\n",
            "Epoch 72/150\n",
            "169/169 [==============================] - 1s 4ms/step - loss: 0.0778 - accuracy: 0.9773 - val_loss: 0.1080 - val_accuracy: 0.9741\n",
            "Epoch 73/150\n",
            "169/169 [==============================] - 1s 3ms/step - loss: 0.0290 - accuracy: 0.9895 - val_loss: 0.1420 - val_accuracy: 0.9682\n",
            "Epoch 74/150\n",
            "169/169 [==============================] - 1s 3ms/step - loss: 0.0236 - accuracy: 0.9932 - val_loss: 0.1590 - val_accuracy: 0.9675\n",
            "Epoch 75/150\n",
            "169/169 [==============================] - 1s 4ms/step - loss: 0.0225 - accuracy: 0.9939 - val_loss: 0.1580 - val_accuracy: 0.9726\n",
            "Epoch 76/150\n",
            "169/169 [==============================] - 1s 4ms/step - loss: 0.0164 - accuracy: 0.9952 - val_loss: 0.1563 - val_accuracy: 0.9667\n",
            "Epoch 77/150\n",
            "169/169 [==============================] - 1s 4ms/step - loss: 0.0166 - accuracy: 0.9954 - val_loss: 0.1167 - val_accuracy: 0.9763\n",
            "Epoch 78/150\n",
            "169/169 [==============================] - 1s 4ms/step - loss: 0.0138 - accuracy: 0.9959 - val_loss: 0.1381 - val_accuracy: 0.9741\n",
            "Epoch 79/150\n",
            "169/169 [==============================] - 1s 4ms/step - loss: 0.0124 - accuracy: 0.9959 - val_loss: 0.1258 - val_accuracy: 0.9793\n",
            "Epoch 80/150\n",
            "169/169 [==============================] - 1s 3ms/step - loss: 0.0105 - accuracy: 0.9967 - val_loss: 0.1662 - val_accuracy: 0.9704\n",
            "Epoch 81/150\n",
            "169/169 [==============================] - 1s 4ms/step - loss: 0.0162 - accuracy: 0.9946 - val_loss: 0.2006 - val_accuracy: 0.9719\n",
            "Epoch 82/150\n",
            "169/169 [==============================] - 1s 5ms/step - loss: 0.0335 - accuracy: 0.9887 - val_loss: 0.2829 - val_accuracy: 0.9638\n",
            "Epoch 83/150\n",
            "169/169 [==============================] - 1s 6ms/step - loss: 0.0635 - accuracy: 0.9813 - val_loss: 0.1492 - val_accuracy: 0.9697\n",
            "Epoch 84/150\n",
            "169/169 [==============================] - 1s 7ms/step - loss: 0.0323 - accuracy: 0.9885 - val_loss: 0.1542 - val_accuracy: 0.9726\n",
            "Epoch 85/150\n",
            "169/169 [==============================] - 1s 5ms/step - loss: 0.0238 - accuracy: 0.9922 - val_loss: 0.1531 - val_accuracy: 0.9771\n",
            "Epoch 86/150\n",
            "169/169 [==============================] - 1s 5ms/step - loss: 0.0166 - accuracy: 0.9954 - val_loss: 0.1288 - val_accuracy: 0.9763\n",
            "Epoch 87/150\n",
            "169/169 [==============================] - 1s 4ms/step - loss: 0.0165 - accuracy: 0.9946 - val_loss: 0.1628 - val_accuracy: 0.9763\n",
            "Epoch 88/150\n",
            "169/169 [==============================] - 1s 4ms/step - loss: 0.0439 - accuracy: 0.9884 - val_loss: 0.1813 - val_accuracy: 0.9726\n",
            "Epoch 89/150\n",
            "169/169 [==============================] - 1s 4ms/step - loss: 0.0455 - accuracy: 0.9891 - val_loss: 0.1650 - val_accuracy: 0.9778\n",
            "Epoch 90/150\n",
            "169/169 [==============================] - 1s 4ms/step - loss: 0.0240 - accuracy: 0.9939 - val_loss: 0.1432 - val_accuracy: 0.9763\n",
            "Epoch 91/150\n",
            "169/169 [==============================] - 1s 4ms/step - loss: 0.0146 - accuracy: 0.9956 - val_loss: 0.1366 - val_accuracy: 0.9763\n",
            "Epoch 92/150\n",
            "169/169 [==============================] - 1s 4ms/step - loss: 0.0105 - accuracy: 0.9965 - val_loss: 0.1431 - val_accuracy: 0.9793\n",
            "Epoch 93/150\n",
            "169/169 [==============================] - 1s 4ms/step - loss: 0.0084 - accuracy: 0.9974 - val_loss: 0.1649 - val_accuracy: 0.9741\n",
            "Epoch 94/150\n",
            "169/169 [==============================] - 1s 6ms/step - loss: 0.0079 - accuracy: 0.9974 - val_loss: 0.1513 - val_accuracy: 0.9741\n",
            "Epoch 95/150\n",
            "169/169 [==============================] - 1s 5ms/step - loss: 0.0102 - accuracy: 0.9967 - val_loss: 0.1435 - val_accuracy: 0.9808\n",
            "Epoch 96/150\n",
            "169/169 [==============================] - 1s 5ms/step - loss: 0.0139 - accuracy: 0.9945 - val_loss: 0.1647 - val_accuracy: 0.9763\n",
            "Epoch 97/150\n",
            "169/169 [==============================] - 1s 6ms/step - loss: 0.0275 - accuracy: 0.9920 - val_loss: 0.2266 - val_accuracy: 0.9689\n",
            "Epoch 98/150\n",
            "169/169 [==============================] - 1s 6ms/step - loss: 0.0550 - accuracy: 0.9852 - val_loss: 0.1791 - val_accuracy: 0.9660\n",
            "Epoch 99/150\n",
            "169/169 [==============================] - 2s 9ms/step - loss: 0.0300 - accuracy: 0.9900 - val_loss: 0.1635 - val_accuracy: 0.9689\n",
            "Epoch 100/150\n",
            "169/169 [==============================] - 1s 7ms/step - loss: 0.0226 - accuracy: 0.9920 - val_loss: 0.1650 - val_accuracy: 0.9741\n",
            "Epoch 101/150\n",
            "169/169 [==============================] - 1s 6ms/step - loss: 0.0126 - accuracy: 0.9959 - val_loss: 0.1444 - val_accuracy: 0.9763\n",
            "Epoch 102/150\n",
            "169/169 [==============================] - 1s 3ms/step - loss: 0.0104 - accuracy: 0.9970 - val_loss: 0.1556 - val_accuracy: 0.9726\n",
            "Epoch 103/150\n",
            "169/169 [==============================] - 1s 3ms/step - loss: 0.0115 - accuracy: 0.9965 - val_loss: 0.1471 - val_accuracy: 0.9741\n",
            "Epoch 104/150\n",
            "169/169 [==============================] - 1s 3ms/step - loss: 0.0128 - accuracy: 0.9967 - val_loss: 0.1588 - val_accuracy: 0.9734\n",
            "Epoch 105/150\n",
            "169/169 [==============================] - 1s 5ms/step - loss: 0.0113 - accuracy: 0.9967 - val_loss: 0.1433 - val_accuracy: 0.9793\n",
            "Epoch 106/150\n",
            "169/169 [==============================] - 1s 4ms/step - loss: 0.0092 - accuracy: 0.9970 - val_loss: 0.1421 - val_accuracy: 0.9786\n",
            "Epoch 107/150\n",
            "169/169 [==============================] - 1s 3ms/step - loss: 0.0099 - accuracy: 0.9961 - val_loss: 0.1662 - val_accuracy: 0.9771\n",
            "Epoch 108/150\n",
            "169/169 [==============================] - 1s 4ms/step - loss: 0.0130 - accuracy: 0.9961 - val_loss: 0.1732 - val_accuracy: 0.9734\n",
            "Epoch 109/150\n",
            "169/169 [==============================] - 1s 3ms/step - loss: 0.0196 - accuracy: 0.9939 - val_loss: 0.2080 - val_accuracy: 0.9712\n",
            "Epoch 110/150\n",
            "169/169 [==============================] - 1s 3ms/step - loss: 0.0926 - accuracy: 0.9780 - val_loss: 0.2473 - val_accuracy: 0.9482\n",
            "Epoch 111/150\n",
            "169/169 [==============================] - 1s 3ms/step - loss: 0.0487 - accuracy: 0.9880 - val_loss: 0.1148 - val_accuracy: 0.9786\n",
            "Epoch 112/150\n",
            "169/169 [==============================] - 1s 3ms/step - loss: 0.0216 - accuracy: 0.9932 - val_loss: 0.1344 - val_accuracy: 0.9756\n",
            "Epoch 113/150\n",
            "169/169 [==============================] - 1s 3ms/step - loss: 0.0134 - accuracy: 0.9956 - val_loss: 0.1384 - val_accuracy: 0.9763\n",
            "Epoch 114/150\n",
            "169/169 [==============================] - 0s 3ms/step - loss: 0.0101 - accuracy: 0.9970 - val_loss: 0.1164 - val_accuracy: 0.9800\n",
            "Epoch 115/150\n",
            "169/169 [==============================] - 1s 3ms/step - loss: 0.0076 - accuracy: 0.9978 - val_loss: 0.1583 - val_accuracy: 0.9763\n",
            "Epoch 116/150\n",
            "169/169 [==============================] - 1s 3ms/step - loss: 0.0106 - accuracy: 0.9974 - val_loss: 0.1417 - val_accuracy: 0.9778\n",
            "Epoch 117/150\n",
            "169/169 [==============================] - 0s 3ms/step - loss: 0.0077 - accuracy: 0.9978 - val_loss: 0.1296 - val_accuracy: 0.9822\n",
            "Epoch 118/150\n",
            "169/169 [==============================] - 1s 3ms/step - loss: 0.0116 - accuracy: 0.9972 - val_loss: 0.1508 - val_accuracy: 0.9763\n",
            "Epoch 119/150\n",
            "169/169 [==============================] - 0s 3ms/step - loss: 0.0184 - accuracy: 0.9943 - val_loss: 0.1662 - val_accuracy: 0.9719\n",
            "Epoch 120/150\n",
            "169/169 [==============================] - 1s 3ms/step - loss: 0.0507 - accuracy: 0.9856 - val_loss: 0.1307 - val_accuracy: 0.9704\n",
            "Epoch 121/150\n",
            "169/169 [==============================] - 0s 3ms/step - loss: 0.0216 - accuracy: 0.9928 - val_loss: 0.1429 - val_accuracy: 0.9786\n",
            "Epoch 122/150\n",
            "169/169 [==============================] - 1s 3ms/step - loss: 0.0120 - accuracy: 0.9963 - val_loss: 0.1350 - val_accuracy: 0.9786\n",
            "Epoch 123/150\n",
            "169/169 [==============================] - 1s 3ms/step - loss: 0.0147 - accuracy: 0.9954 - val_loss: 0.1374 - val_accuracy: 0.9793\n",
            "Epoch 124/150\n",
            "169/169 [==============================] - 1s 3ms/step - loss: 0.0163 - accuracy: 0.9952 - val_loss: 0.1182 - val_accuracy: 0.9837\n",
            "Epoch 125/150\n",
            "169/169 [==============================] - 1s 3ms/step - loss: 0.0072 - accuracy: 0.9976 - val_loss: 0.1004 - val_accuracy: 0.9793\n",
            "Epoch 126/150\n",
            "169/169 [==============================] - 1s 3ms/step - loss: 0.0091 - accuracy: 0.9974 - val_loss: 0.1014 - val_accuracy: 0.9822\n",
            "Epoch 127/150\n",
            "169/169 [==============================] - 1s 3ms/step - loss: 0.0069 - accuracy: 0.9978 - val_loss: 0.1110 - val_accuracy: 0.9815\n",
            "Epoch 128/150\n",
            "169/169 [==============================] - 1s 3ms/step - loss: 0.0111 - accuracy: 0.9967 - val_loss: 0.1129 - val_accuracy: 0.9830\n",
            "Epoch 129/150\n",
            "169/169 [==============================] - 1s 3ms/step - loss: 0.0098 - accuracy: 0.9967 - val_loss: 0.1460 - val_accuracy: 0.9808\n",
            "Epoch 130/150\n",
            "169/169 [==============================] - 1s 3ms/step - loss: 0.0091 - accuracy: 0.9972 - val_loss: 0.1400 - val_accuracy: 0.9830\n",
            "Epoch 131/150\n",
            "169/169 [==============================] - 1s 3ms/step - loss: 0.0339 - accuracy: 0.9924 - val_loss: 0.1593 - val_accuracy: 0.9726\n",
            "Epoch 132/150\n",
            "169/169 [==============================] - 1s 3ms/step - loss: 0.0584 - accuracy: 0.9861 - val_loss: 0.2294 - val_accuracy: 0.9689\n",
            "Epoch 133/150\n",
            "169/169 [==============================] - 1s 3ms/step - loss: 0.0867 - accuracy: 0.9854 - val_loss: 0.1127 - val_accuracy: 0.9712\n",
            "Epoch 134/150\n",
            "169/169 [==============================] - 0s 3ms/step - loss: 0.0154 - accuracy: 0.9957 - val_loss: 0.1398 - val_accuracy: 0.9749\n",
            "Epoch 135/150\n",
            "169/169 [==============================] - 1s 3ms/step - loss: 0.0127 - accuracy: 0.9959 - val_loss: 0.1201 - val_accuracy: 0.9763\n",
            "Epoch 136/150\n",
            "169/169 [==============================] - 1s 3ms/step - loss: 0.0089 - accuracy: 0.9970 - val_loss: 0.1060 - val_accuracy: 0.9778\n",
            "Epoch 137/150\n",
            "169/169 [==============================] - 1s 3ms/step - loss: 0.0071 - accuracy: 0.9983 - val_loss: 0.0935 - val_accuracy: 0.9808\n",
            "Epoch 138/150\n",
            "169/169 [==============================] - 1s 3ms/step - loss: 0.0070 - accuracy: 0.9972 - val_loss: 0.1097 - val_accuracy: 0.9808\n",
            "Epoch 139/150\n",
            "169/169 [==============================] - 1s 3ms/step - loss: 0.0066 - accuracy: 0.9983 - val_loss: 0.1150 - val_accuracy: 0.9763\n",
            "Epoch 140/150\n",
            "169/169 [==============================] - 1s 3ms/step - loss: 0.0072 - accuracy: 0.9978 - val_loss: 0.1077 - val_accuracy: 0.9830\n",
            "Epoch 141/150\n",
            "169/169 [==============================] - 1s 3ms/step - loss: 0.0056 - accuracy: 0.9983 - val_loss: 0.1244 - val_accuracy: 0.9822\n",
            "Epoch 142/150\n",
            "169/169 [==============================] - 0s 3ms/step - loss: 0.0071 - accuracy: 0.9980 - val_loss: 0.1491 - val_accuracy: 0.9786\n",
            "Epoch 143/150\n",
            "169/169 [==============================] - 1s 3ms/step - loss: 0.0073 - accuracy: 0.9980 - val_loss: 0.1193 - val_accuracy: 0.9808\n",
            "Epoch 144/150\n",
            "169/169 [==============================] - 1s 3ms/step - loss: 0.0133 - accuracy: 0.9957 - val_loss: 0.1503 - val_accuracy: 0.9771\n",
            "Epoch 145/150\n",
            "169/169 [==============================] - 1s 3ms/step - loss: 0.0213 - accuracy: 0.9945 - val_loss: 0.1703 - val_accuracy: 0.9682\n",
            "Epoch 146/150\n",
            "169/169 [==============================] - 1s 3ms/step - loss: 0.0517 - accuracy: 0.9859 - val_loss: 0.2427 - val_accuracy: 0.9608\n",
            "Epoch 147/150\n",
            "169/169 [==============================] - 1s 4ms/step - loss: 0.0580 - accuracy: 0.9878 - val_loss: 0.1793 - val_accuracy: 0.9645\n",
            "Epoch 148/150\n",
            "169/169 [==============================] - 1s 3ms/step - loss: 0.0415 - accuracy: 0.9891 - val_loss: 0.1619 - val_accuracy: 0.9756\n",
            "Epoch 149/150\n",
            "169/169 [==============================] - 0s 3ms/step - loss: 0.0186 - accuracy: 0.9950 - val_loss: 0.1548 - val_accuracy: 0.9734\n",
            "Epoch 150/150\n",
            "169/169 [==============================] - 1s 3ms/step - loss: 0.0136 - accuracy: 0.9963 - val_loss: 0.1434 - val_accuracy: 0.9786\n"
          ]
        }
      ]
    },
    {
      "cell_type": "code",
      "source": [
        "model.summary()"
      ],
      "metadata": {
        "colab": {
          "base_uri": "https://localhost:8080/"
        },
        "id": "Lt0GQZH_cPjS",
        "outputId": "ff811580-4a78-49fb-d0bb-d0b21188b746"
      },
      "execution_count": 85,
      "outputs": [
        {
          "output_type": "stream",
          "name": "stdout",
          "text": [
            "Model: \"sequential_6\"\n",
            "_________________________________________________________________\n",
            " Layer (type)                Output Shape              Param #   \n",
            "=================================================================\n",
            " dense_18 (Dense)            (None, 256)               5376      \n",
            "                                                                 \n",
            " dense_19 (Dense)            (None, 128)               32896     \n",
            "                                                                 \n",
            " dense_20 (Dense)            (None, 1)                 129       \n",
            "                                                                 \n",
            "=================================================================\n",
            "Total params: 38,401\n",
            "Trainable params: 38,401\n",
            "Non-trainable params: 0\n",
            "_________________________________________________________________\n"
          ]
        }
      ]
    },
    {
      "cell_type": "code",
      "source": [
        "import matplotlib.pyplot as plt\n",
        "\n",
        "loss = history.history['loss']\n",
        "val_loss = history.history['val_loss']\n",
        "\n",
        "epochs = range(1, len(loss) + 1)\n",
        "\n",
        "plt.figure()\n",
        "\n",
        "plt.plot(epochs, loss, 'bo', label='Training Loss')\n",
        "plt.plot(epochs, val_loss, 'b', label='Validation Loss')\n",
        "plt.title('Training and Validation Loss')\n",
        "plt.legend()\n",
        "\n",
        "plt.show()"
      ],
      "metadata": {
        "colab": {
          "base_uri": "https://localhost:8080/",
          "height": 281
        },
        "id": "GdFAaQU8cPmt",
        "outputId": "697c669d-6609-47b7-a6fe-48933e4df18f"
      },
      "execution_count": 86,
      "outputs": [
        {
          "output_type": "display_data",
          "data": {
            "text/plain": [
              "<Figure size 432x288 with 1 Axes>"
            ],
            "image/png": "[encoded data removed]"
          },
          "metadata": {
            "needs_background": "light"
          }
        }
      ]
    },
    {
      "cell_type": "code",
      "source": [
        "import matplotlib.pyplot as plt\n",
        "\n",
        "acc = history.history['accuracy']\n",
        "val_acc = history.history['val_accuracy']\n",
        "\n",
        "epochs = range(1, len(loss) + 1)\n",
        "\n",
        "plt.figure()\n",
        "\n",
        "plt.plot(epochs, acc, 'bo', label='Training Accuracy')\n",
        "plt.plot(epochs, val_acc, 'b', label='Validation Accuracy')\n",
        "plt.title('Training and Validation Accuracy')\n",
        "plt.legend()\n",
        "\n",
        "plt.show()"
      ],
      "metadata": {
        "colab": {
          "base_uri": "https://localhost:8080/",
          "height": 281
        },
        "id": "JOusFvPrcPo0",
        "outputId": "6d1f02eb-0d19-433c-89ae-b7cc2907bae1"
      },
      "execution_count": 87,
      "outputs": [
        {
          "output_type": "display_data",
          "data": {
            "text/plain": [
              "<Figure size 432x288 with 1 Axes>"
            ],
            "image/png": "[encoded data removed]"
          },
          "metadata": {
            "needs_background": "light"
          }
        }
      ]
    },
    {
      "cell_type": "code",
      "source": [
        "# Part 3 : Making Predictions and Evaluating the Model\n",
        "\n",
        "# Predicting the test set results\n",
        "y_pred = model.predict(X_test)\n",
        "y_pred = (y_pred > 0.5)\n",
        "\n",
        "# Making the Confusion Matrix\n",
        "from sklearn.metrics import confusion_matrix\n",
        "cm = confusion_matrix(Y_test, y_pred)\n",
        "\n",
        "# Calculate the Accuracy\n",
        "from sklearn.metrics import accuracy_score\n",
        "score=accuracy_score(y_pred,Y_test)"
      ],
      "metadata": {
        "colab": {
          "base_uri": "https://localhost:8080/"
        },
        "id": "SpR8dDZwj2rL",
        "outputId": "7058abf0-e372-4ba3-ffd5-2cd9dc402c9c"
      },
      "execution_count": 88,
      "outputs": [
        {
          "output_type": "stream",
          "name": "stdout",
          "text": [
            "53/53 [==============================] - 0s 2ms/step\n"
          ]
        }
      ]
    },
    {
      "cell_type": "code",
      "source": [
        "score"
      ],
      "metadata": {
        "colab": {
          "base_uri": "https://localhost:8080/"
        },
        "id": "A0F4PzUAllpR",
        "outputId": "af1be0b3-79a5-44ea-8de8-83afadf04ab9"
      },
      "execution_count": 89,
      "outputs": [
        {
          "output_type": "execute_result",
          "data": {
            "text/plain": [
              "0.978698224852071"
            ]
          },
          "metadata": {},
          "execution_count": 89
        }
      ]
    },
    {
      "cell_type": "code",
      "source": [
        "cm"
      ],
      "metadata": {
        "colab": {
          "base_uri": "https://localhost:8080/"
        },
        "id": "sF-I4ut2lhlT",
        "outputId": "b2738436-b553-451e-adfe-ed099809e34e"
      },
      "execution_count": 90,
      "outputs": [
        {
          "output_type": "execute_result",
          "data": {
            "text/plain": [
              "array([[789,  36],\n",
              "       [  0, 865]])"
            ]
          },
          "metadata": {},
          "execution_count": 90
        }
      ]
    },
    {
      "cell_type": "code",
      "source": [],
      "metadata": {
        "id": "Oz107CZz6yYH"
      },
      "execution_count": null,
      "outputs": []
    }
  ]
}